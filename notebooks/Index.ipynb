{
 "metadata": {
  "name": "",
  "signature": "sha256:27d6293814841faddcb054362924cef21a32d7612f72d462a4fb435ee3c99b48"
 },
 "nbformat": 3,
 "nbformat_minor": 0,
 "worksheets": [
  {
   "cells": [
    {
     "cell_type": "markdown",
     "metadata": {},
     "source": [
      "# Index\n",
      "\n",
      "This is the index for my scikit-learn tutorial at PyCon 2015\n",
      "\n",
      "### 1. Preliminaries\n",
      "\n",
      "  + [01-Preliminaries.ipynb](01-Preliminaries.ipynb)\n",
      "  \n",
      "### 2. Introduction to Machine Learning with Scikit-Learn\n",
      "\n",
      "  + [02.1-Machine-Learning-Intro.ipynb](02.1-Machine-Learning-Intro.ipynb)\n",
      "  + [02.2-Basic-Principles.ipynb](02.2-Basic-Principles.ipynb)\n",
      "  \n",
      "### 3. Supervised Learning In-Depth\n",
      "\n",
      "  + [03.1-Classification-SVMs.ipynb](03.1-Classification-SVMs.ipynb)\n",
      "  + [03.2-Regression-Forests.ipynb](03.2-Regression-Forests.ipynb)\n",
      "\n",
      "### 4. Unsupervised Learning In-Depth\n",
      "\n",
      "  + [04.1-Dimensionality-PCA.ipynb](04.1-Dimensionality-PCA.ipynb)\n",
      "  + [04.2-Clustering-KMeans.ipynb](04.2-Clustering-KMeans.ipynb)\n",
      "  + [04.3-Density-GMM.ipynb](04.3-Density-GMM.ipynb)\n",
      "  \n",
      "### 5. Model Validation In-Depth\n",
      "\n",
      "  + [05-Validation.ipynb](05-Validation.ipynb)"
     ]
    }
   ],
   "metadata": {}
  }
 ]
}