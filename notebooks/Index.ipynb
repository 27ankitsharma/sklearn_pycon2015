{
 "metadata": {
  "name": "",
  "signature": "sha256:151d9c6cf1547c63c3f59f1cf93ba6965387afb80985d2476fa65e5bb19f113d"
 },
 "nbformat": 3,
 "nbformat_minor": 0,
 "worksheets": [
  {
   "cells": [
    {
     "cell_type": "markdown",
     "metadata": {},
     "source": [
      "# Index\n",
      "\n",
      "This is the index for my scikit-learn tutorial at PyCon 2015\n",
      "\n",
      "- [00_Preliminaries.ipynb](00_Preliminaries.ipynb)\n",
      "- [01_basics.ipynb](01_basics.ipynb)\n",
      "- [02_data_representation.ipynb](02_data_representation.ipynb)\n",
      "- [03_basic_principles.ipynb](03_basic_principles.ipynb)\n",
      "- [04_supervised_in_depth.ipynb](04_supervised_in_depth.ipynb)\n",
      "- [05_unsupervised_in_depth.ipynb](05_unsupervised_in_depth.ipynb)\n",
      "- [06_validation.ipynb](06_validation.ipynb)"
     ]
    }
   ],
   "metadata": {}
  }
 ]
}